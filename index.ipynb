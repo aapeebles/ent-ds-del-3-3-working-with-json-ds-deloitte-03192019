{
 "cells": [
  {
   "cell_type": "markdown",
   "metadata": {},
   "source": [
    "# Working with JSON\n",
    "\n",
    "\n",
    "## Introduction\n",
    "When you retrieve information from an API, it is often stored in either an XML or a JSON format. In this lesson, we look at what JSON is, the problems it solves, and provide some hands on experience working with it. \n",
    "\n",
    "\n",
    "## Objectives\n",
    "You will be able to:\n",
    "* Explain what JSON is and why it is used\n",
    "* Retrieve information from a JSON file and store it in a List or DataFrame"
   ]
  },
  {
   "cell_type": "markdown",
   "metadata": {},
   "source": [
    "## XML - lite\n",
    "\n",
    "In the early 2000's, XML was becoming increasingly popular - not only as a data interchange format but also as a configuration format to allow developers to set options and values in their code. However, while XML is powerful, it requires a lot of typing and isn't very readable as so much of the text required in an XML document is the repetition of the field descriptions using tags. Look at the snippet of XML below - 62 characters to convey a 4 character first name!\n",
    "\n",
    "```\n",
    "<people>\n",
    "    <person>\n",
    "        <firstname>Jane</firstname>\n",
    "    </person>\n",
    "</people>\n",
    "```\n",
    "\n",
    "Of course, this is a particularly bad example, but XML certainly isn't concise, and that is a problem both for humans having to read and edit XML files and *(in the case of very large files)* for the time it takes to transfer the information from one computer to another.\n",
    "\n",
    "At around the same time, Douglas Crockford first specified and popularized another format for sending information over the web - it was called JSON (pronounced Jay-son - like the name \"Jason\"). It is short for JavaScript Object Notation and was originally intended to be part of the JavaScript scripting language, although it was always language agnostic (you can read and write JSON using almost any programming language).\n",
    "\n",
    "Over time, and especially with the rise in popularity of Javascript for adding functionality to web pages, JSON has become one of the most popular formats for sending and retrieving information from APIs.\n",
    "\n",
    "As with XML, it can be used to store any kind of information, but is most useful/valuable for representing structured data - and in particular, hierarchical, structured data. It solves the sames problems as XML and stores the same kind of information - just using a different format.\n",
    "\n",
    "Here's an example of what the \"people\" xml file from the last lesson would look like in JSON:\n",
    "\n",
    "```\n",
    "{\n",
    "  \"people\": [\n",
    "    {\n",
    "      \"firstname\": \"Jane\",\n",
    "      \"lastname\": \"Anderson\",\n",
    "      \"phonetype\": \"cell\",\n",
    "      \"phonenumber\": \"111-111-1111\"\n",
    "    },\n",
    "    {\n",
    "      \"firstname\": \"Joe\",\n",
    "      \"lastname\": \"Sonos\",\n",
    "      \"phonetype\": \"office\",\n",
    "      \"phonenumber\": \"111-111-1111\"\n",
    "    },\n",
    "    {\n",
    "      \"firstname\": \"Alison\",\n",
    "      \"lastname\": \"Demming\",\n",
    "      \"phonetype\": \"home\",\n",
    "      \"phonenumber\": \"111-111-1111\"\n",
    "    }\n",
    "  ]\n",
    "}\n",
    "```\n",
    "\n",
    "Some key things to notice:\n",
    "* This looks a lot like a Python dictionary\n",
    "* The `people` key has a value type of list (notice the square brackets) and is a list of JSON objects (which in Python gets stored as a list of dictionaries)\n",
    "* The key/value pairs are both wrapped in quotation marks (e.g. both `\"firstname\"` and `\"Jane\"` have the quotes)\n",
    "* The \"value\" of a key value can be another object (another collection of key value pairs) - in the same way that in XML the `<person>` tag could contain a set of sub-tags like `<firstname>` and `<phone>`\n",
    "* There is not the same concept of \"attributes\" as in XML. You notice we had to add another key-value pair for the `phonetype`. We could also have created a `phone` object with a `type` and a `number` key - `\"phone\" : { \"type\": \"cell\",  \"number\": \"111-111-1111\"}`\n",
    "* Indentation is useful to ensure you match your opening and closing brackets, but it is not meaningful. The following JSON will work just the same as the example above:\n",
    "\n",
    "```\n",
    "{\"people\": [{\"firstname\": \"Jane\",\"lastname\": \"Anderson\",\"phonetype\": \"cell\",\"phonenumber\": \"111-111-1111\"},{\"firstname\": \"Joe\",\"lastname\": \"Sonos\",\"phonetype\": \"office\",\"phonenumber\": \"111-111-1111\"},{\"firstname\": \"Alison\",\"lastname\": \"Demming\",\"phonetype\": \"home\",\"phonenumber\": \"111-111-1111\"}]\n",
    "}\n",
    "```\n",
    "\n",
    "OK, let's take a run at working with a JSON file. There is a file in this directory called people.json containing the same information as the people.xml file in the last lesson. \n",
    "\n",
    "Just as there is an XML standard library in Python, it also contains a [JSON standard library](https://docs.python.org/3.6/library/json.html). \n",
    "\n",
    "So we start by importing that library, opening the file and loading the JSON:"
   ]
  },
  {
   "cell_type": "code",
   "execution_count": 1,
   "metadata": {},
   "outputs": [
    {
     "name": "stdout",
     "output_type": "stream",
     "text": [
      "<class 'dict'>\n",
      "{'people': [{'firstname': 'Jane', 'lastname': 'Anderson', 'phonetype': 'cell', 'phonenumber': '111-111-1111', 'addresses': []}, {'firstname': 'Joe', 'lastname': 'Sonos', 'phonetype': 'office', 'phonenumber': '111-111-1111', 'addresses': [{'type': 'home', 'street': '27 Magnolia Street', 'city': 'Maplewood', 'state': 'NJ'}, {'type': 'work', 'street': '4 Main Street', 'city': 'Montclair', 'state': 'NJ'}]}, {'firstname': 'Alison', 'lastname': 'Demming', 'phonetype': 'home', 'phonenumber': '111-111-1111', 'addresses': [{'type': 'home', 'street': '27 Magnolia Street', 'city': 'Maplewood', 'state': 'NJ'}, {'type': 'work', 'street': '12 Main Street', 'city': 'Montclair', 'state': 'NJ'}]}]}\n"
     ]
    }
   ],
   "source": [
    "import json\n",
    "\n",
    "json_data = open('people.json')\n",
    "data = json.load(json_data)\n",
    "print(type(data))\n",
    "print(data)\n"
   ]
  },
  {
   "cell_type": "markdown",
   "metadata": {},
   "source": [
    "As you'll see, the json library loaded this into a Python dictionary that we can now traverse. Lets start by having a look around:"
   ]
  },
  {
   "cell_type": "code",
   "execution_count": 2,
   "metadata": {},
   "outputs": [
    {
     "data": {
      "text/plain": [
       "dict_keys(['people'])"
      ]
     },
     "execution_count": 2,
     "metadata": {},
     "output_type": "execute_result"
    }
   ],
   "source": [
    "data.keys()"
   ]
  },
  {
   "cell_type": "markdown",
   "metadata": {},
   "source": [
    "Looks like we have a top level key of \"people\", let's see what's contained within it . . ."
   ]
  },
  {
   "cell_type": "code",
   "execution_count": 3,
   "metadata": {},
   "outputs": [
    {
     "name": "stdout",
     "output_type": "stream",
     "text": [
      "<class 'list'>\n"
     ]
    },
    {
     "data": {
      "text/plain": [
       "[{'addresses': [],\n",
       "  'firstname': 'Jane',\n",
       "  'lastname': 'Anderson',\n",
       "  'phonenumber': '111-111-1111',\n",
       "  'phonetype': 'cell'},\n",
       " {'addresses': [{'city': 'Maplewood',\n",
       "    'state': 'NJ',\n",
       "    'street': '27 Magnolia Street',\n",
       "    'type': 'home'},\n",
       "   {'city': 'Montclair',\n",
       "    'state': 'NJ',\n",
       "    'street': '4 Main Street',\n",
       "    'type': 'work'}],\n",
       "  'firstname': 'Joe',\n",
       "  'lastname': 'Sonos',\n",
       "  'phonenumber': '111-111-1111',\n",
       "  'phonetype': 'office'},\n",
       " {'addresses': [{'city': 'Maplewood',\n",
       "    'state': 'NJ',\n",
       "    'street': '27 Magnolia Street',\n",
       "    'type': 'home'},\n",
       "   {'city': 'Montclair',\n",
       "    'state': 'NJ',\n",
       "    'street': '12 Main Street',\n",
       "    'type': 'work'}],\n",
       "  'firstname': 'Alison',\n",
       "  'lastname': 'Demming',\n",
       "  'phonenumber': '111-111-1111',\n",
       "  'phonetype': 'home'}]"
      ]
     },
     "execution_count": 3,
     "metadata": {},
     "output_type": "execute_result"
    }
   ],
   "source": [
    "print(type(data[\"people\"]))\n",
    "data[\"people\"]"
   ]
  },
  {
   "cell_type": "markdown",
   "metadata": {},
   "source": [
    "There we go, that's a List of people. OK, lets try to do what we did with the XML file - let's retrieve the phone number for each of the people and put them all in a list . . . "
   ]
  },
  {
   "cell_type": "code",
   "execution_count": 4,
   "metadata": {},
   "outputs": [
    {
     "name": "stdout",
     "output_type": "stream",
     "text": [
      "['111-111-1111', '111-111-1111', '111-111-1111']\n"
     ]
    }
   ],
   "source": [
    "phone_numbers = []\n",
    "for person in data[\"people\"]:\n",
    "    phone_numbers.append(person[\"phonenumber\"])\n",
    "print(phone_numbers)"
   ]
  },
  {
   "cell_type": "markdown",
   "metadata": {},
   "source": [
    "Great - now lets try to get a list of addresses - lets just take the cities and make a list of them first."
   ]
  },
  {
   "cell_type": "code",
   "execution_count": 5,
   "metadata": {},
   "outputs": [
    {
     "name": "stdout",
     "output_type": "stream",
     "text": [
      "['Maplewood', 'Montclair', 'Maplewood', 'Montclair']\n"
     ]
    }
   ],
   "source": [
    "cities = []\n",
    "for person in data[\"people\"]:\n",
    "    for address in person[\"addresses\"]:\n",
    "        cities.append(address[\"city\"])\n",
    "print(cities)"
   ]
  },
  {
   "cell_type": "markdown",
   "metadata": {},
   "source": [
    "OK, now it's your turn! Instead of creating a List of every city, create a Set of the distinct cities."
   ]
  },
  {
   "cell_type": "code",
   "execution_count": 8,
   "metadata": {},
   "outputs": [
    {
     "name": "stdout",
     "output_type": "stream",
     "text": [
      "{'Montclair', 'Maplewood'}\n"
     ]
    }
   ],
   "source": [
    "cities = []\n",
    "for person in data[\"people\"]:\n",
    "    for address in person[\"addresses\"]:\n",
    "        cities.add(address[\"city\"])\n",
    "    cities = set(cities)\n",
    "print(cities)"
   ]
  },
  {
   "cell_type": "markdown",
   "metadata": {},
   "source": [
    "Great! Now iterate over the document and create & print a list of first names:"
   ]
  },
  {
   "cell_type": "code",
   "execution_count": 11,
   "metadata": {},
   "outputs": [
    {
     "name": "stdout",
     "output_type": "stream",
     "text": [
      "['Jane', 'Joe', 'Alison']\n"
     ]
    }
   ],
   "source": [
    "names = []\n",
    "for person in data[\"people\"]:\n",
    "    names.append(person[\"firstname\"])\n",
    "print(names)"
   ]
  },
  {
   "cell_type": "markdown",
   "metadata": {},
   "source": [
    "Perfect! Now go in and create a list of the states that the people have an address in:"
   ]
  },
  {
   "cell_type": "code",
   "execution_count": 15,
   "metadata": {},
   "outputs": [
    {
     "name": "stdout",
     "output_type": "stream",
     "text": [
      "{'NJ'}\n"
     ]
    }
   ],
   "source": [
    "states = []\n",
    "for person in data[\"people\"]:\n",
    "    for address in person[\"addresses\"]:\n",
    "        states.append(address[\"state\"])\n",
    "\n",
    "print(set(states))"
   ]
  },
  {
   "cell_type": "markdown",
   "metadata": {},
   "source": [
    "Now, create a list of full names *(hint, you'll have to concatenate the first name, a space and then the last name for every full name)*:"
   ]
  },
  {
   "cell_type": "code",
   "execution_count": 12,
   "metadata": {},
   "outputs": [
    {
     "name": "stdout",
     "output_type": "stream",
     "text": [
      "['Jane Anderson', 'Joe Sonos', 'Alison Demming']\n"
     ]
    }
   ],
   "source": [
    "fullnames = []\n",
    "for person in data[\"people\"]:\n",
    "    fullnames.append(person[\"firstname\"]+\" \"+person[\"lastname\"])\n",
    "print(fullnames)"
   ]
  },
  {
   "cell_type": "markdown",
   "metadata": {},
   "source": [
    "OK, in practice, you're usually going to want to create a DataFrame from your JSON file. Here is the code to create a DataFrame containing the first and last names for each person:"
   ]
  },
  {
   "cell_type": "code",
   "execution_count": null,
   "metadata": {},
   "outputs": [],
   "source": [
    "import pandas as pd\n",
    "\n",
    "dfcols = ['firstname', 'lastname']\n",
    "df = pd.DataFrame(columns=dfcols)\n",
    "\n",
    "for person in data[\"people\"]:\n",
    "    firstname = person['firstname']\n",
    "    lastname = person['lastname']\n",
    "    df = df.append(pd.Series([firstname, lastname], index=dfcols), ignore_index=True)\n",
    "df.head ()"
   ]
  },
  {
   "cell_type": "markdown",
   "metadata": {},
   "source": [
    "Great, now create a DataFrame that contains the first name, last name and phone for every person:"
   ]
  },
  {
   "cell_type": "code",
   "execution_count": null,
   "metadata": {},
   "outputs": [],
   "source": []
  },
  {
   "cell_type": "markdown",
   "metadata": {},
   "source": [
    "## Extra Credit (1)\n",
    "Sometimes you need to perform more complex transformations to create the DataFrame you want. Write some code to create a DataFrame with one row per address, containing the first name, last name and all of the address information for each address *(anyone without an address simply won't show up in the DataFrame)*."
   ]
  },
  {
   "cell_type": "code",
   "execution_count": null,
   "metadata": {},
   "outputs": [],
   "source": []
  },
  {
   "cell_type": "markdown",
   "metadata": {},
   "source": [
    "## Extra Credit (2)\n",
    "There is another file in this directory - `nyc_2001_campaign_finance.json`. Open the file using Python, explore it, and create a DataFrame containing the Candidate Name, Primary Pay, General Pay, Runoff Pay and Total Pay for each candidate."
   ]
  },
  {
   "cell_type": "code",
   "execution_count": null,
   "metadata": {},
   "outputs": [],
   "source": []
  },
  {
   "cell_type": "markdown",
   "metadata": {},
   "source": [
    "## Summary\n",
    "\n",
    "Congratulations! You've now got a bunch of hands on experience of working with both XML and JSON data files. Next up, let's look at how to interact with APIs to be able to retrieve such files!\n"
   ]
  }
 ],
 "metadata": {
  "kernelspec": {
   "display_name": "Python 3",
   "language": "python",
   "name": "python3"
  },
  "language_info": {
   "codemirror_mode": {
    "name": "ipython",
    "version": 3
   },
   "file_extension": ".py",
   "mimetype": "text/x-python",
   "name": "python",
   "nbconvert_exporter": "python",
   "pygments_lexer": "ipython3",
   "version": "3.6.0"
  }
 },
 "nbformat": 4,
 "nbformat_minor": 2
}
